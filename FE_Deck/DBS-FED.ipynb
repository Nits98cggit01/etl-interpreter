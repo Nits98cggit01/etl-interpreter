{
 "cells": [
  {
   "cell_type": "code",
   "execution_count": 1,
   "metadata": {},
   "outputs": [],
   "source": [
    "import pandas as pd\n",
    "import numpy as np\n",
    "from datetime import date"
   ]
  },
  {
   "cell_type": "code",
   "execution_count": null,
   "metadata": {},
   "outputs": [],
   "source": [
    "cardscdm = pd.read_csv(r\"C:\\Users\\AAASHTHA\\Desktop\\FE_Deck\\cardscdm_2201.csv\")"
   ]
  },
  {
   "cell_type": "code",
   "execution_count": null,
   "metadata": {},
   "outputs": [],
   "source": [
    "setdt=date.today().strftime('%Y-%m-%d')\n",
    "yymm='2101'\n",
    "MMM='01'\n",
    "YYYY='2021'"
   ]
  },
  {
   "cell_type": "code",
   "execution_count": null,
   "metadata": {},
   "outputs": [],
   "source": [
    "print(setdt)\n",
    "print (yymm)\n",
    "print(MMM)\n",
    "print(YYYY)"
   ]
  },
  {
   "cell_type": "code",
   "execution_count": null,
   "metadata": {},
   "outputs": [],
   "source": [
    "setStartDT='01JAN2019'\n",
    "setEndDT='31DEC2021'"
   ]
  },
  {
   "cell_type": "markdown",
   "metadata": {},
   "source": [
    "## DB0"
   ]
  },
  {
   "cell_type": "code",
   "execution_count": null,
   "metadata": {},
   "outputs": [],
   "source": [
    "data=cardscdm[['ORG','TYPE','APPLICATION','AMRL_NBR_OF_ASSOCS','AMRL_STATUS','AMRL_LAST_MAINT','AMRL_LAST_MAINT_OPER','AMRL_ACCEPT_DECLINE_IND','AMRL_DECISION_DATE','AMRL_DECISION_OPER','AMRL_DATE_ENTERED_EDIT','AMRL_DATE_EXITED_EDIT','AMRL_EDIT_OPER','AMRL_EDIT_STATUS','AMRL_PRE_VAL_OPER','AMRL_PRE_VAL_STATUS','AMRL_PRE_VAL_RESULT','AMRL_APP_SCORE_RESULT','AMRL_VERFICATION_OPER','AMRL_VERFICATION_STATUS','AMRL_VERFICATION_RESULT','AMRL_JUDGEMENT_OPER','AMRL_JUDGEMENT_STATUS','AMRL_JUDGEMENT_RESULT','AMRL_SETUP_OPER','AMRL_SETUP_STATUS','AMRL_COUNTRY_1','AMRL_USER_FIELD_ALPHA_1_1_3','AMRL_USER_FIELD_ALPHA_10_1_5','AMRL_USER_FIELD_ALPHA_3_1_2','AMRL_USER_FIELD_ALPHA_3_1_4','AMRL_USER_FIELD_ALPHA_5_1_2','SMRL_USER_FIELD_ALPHA_23_1_19','AMRL_DECLINE_REASON_1','AMRL_DECLINE_REASON_2','AMRL_DECLINE_REASON_3','AMRL_DECLINE_REASON_4','AMRL_DECLINE_REASON_5','AMRL_DECLINE_REASON_6','AMRL_DECLINE_REASON_7','AMRL_DECLINE_REASON_8','AMRL_DECLINE_REASON_9','AMRL_DECLINE_REASON_10','AMRL_DECLINE_REASON_11','AMRL_DECLINE_REASON_12','AMRL_DECLINE_REASON_13','AMRL_DECLINE_REASON_14','AMRL_DECLINE_REASON_15','AMRL_DECLINE_REASON_16','AMRL_DECLINE_REASON_17','AMRL_DECLINE_REASON_18','AMRL_DECLINE_REASON_19','AMRL_DECLINE_REASON_20','AMRL_DECLINE_REASON_21','AMRL_DECLINE_REASON_22','AMRL_DECLINE_REASON_23','AMRL_DECLINE_REASON_24','AMRL_DECLINE_REASON_25','AMRL_DECLINE_REASON_26','AMRL_DECLINE_REASON_27','AMRL_DECLINE_REASON_28','AMRL_DECLINE_REASON_29','AMRL_DECLINE_REASON_30','AMRL_DECLINE_REASON_31','AMRL_DECLINE_REASON_32','AMRL_DECLINE_REASON_33','AMRL_DECLINE_REASON_34','AMRL_DECLINE_REASON_35','AMRL_DECLINE_REASON_36','AMRL_DECLINE_REASON_37','AMRL_DECLINE_REASON_38','AMRL_DECLINE_REASON_39','AMRL_DECLINE_REASON_40','AMRL_DECLINE_REASON_41','AMRL_DECLINE_REASON_42','AMRL_DECLINE_REASON_43','AMRL_DECLINE_REASON_44','AMRL_DECLINE_REASON_45','AMRL_DECLINE_REASON_46','AMRL_DECLINE_REASON_47','AMRL_DECLINE_REASON_48','AMRL_DECLINE_REASON_49','AMRL_DECLINE_REASON_50','AMRL_DECLINE_REASON_51','AMRL_DECLINE_REASON_52','AMRL_DECLINE_REASON_53','AMRL_DECLINE_REASON_54','AMRL_DECLINE_REASON_55','AMRL_DECLINE_REASON_56','AMRL_DECLINE_REASON_57','AMRL_DECLINE_REASON_58','AMRL_DECLINE_REASON_59','AMRL_DECLINE_REASON_60','AMRL_DECLINE_REASON_61','AMRL_DECLINE_REASON_62','AMRL_DECLINE_REASON_63','AMRL_DECLINE_REASON_64','AMRL_DECLINE_REASON_65','AMRL_DECLINE_REASON_66','AMRL_DECLINE_REASON_67','AMRL_DECLINE_REASON_68','AMRL_DECLINE_REASON_69','AMRL_DECLINE_REASON_70','AMRL_DECLINE_REASON_71','AMRL_DECLINE_REASON_72','AMRL_DECLINE_REASON_73','AMRL_DECLINE_REASON_74','AMRL_DECLINE_REASON_75','AMRL_DECLINE_REASON_76','AMRL_DECLINE_REASON_77','AMRL_DECLINE_REASON_78','AMRL_DECLINE_REASON_79','AMRL_DECLINE_REASON_80','AMRL_DECLINE_REASON_81','AMRL_DECLINE_REASON_82','AMRL_DECLINE_REASON_83','AMRL_DECLINE_REASON_84','AMRL_DECLINE_REASON_85','AMRL_DECLINE_REASON_86','AMRL_DECLINE_REASON_87','AMRL_DECLINE_REASON_88','AMRL_DECLINE_REASON_89','AMRL_DECLINE_REASON_90','AMRL_DECLINE_REASON_91','AMRL_DECLINE_REASON_92','AMRL_DECLINE_REASON_93','AMRL_DECLINE_REASON_94','AMRL_DECLINE_REASON_95','AMRL_DECLINE_REASON_96','AMRL_DECLINE_REASON_97','AMRL_DECLINE_REASON_98','AMRL_DECLINE_REASON_99','AMRL_DECLINE_REASON_100','AMRL_DECLINE_REASON_101','AMRL_DECLINE_REASON_102','AMRL_DECLINE_REASON_103','AMRL_DECLINE_REASON_104','AMRL_DECLINE_REASON_105','AMRL_DECLINE_REASON_106','AMRL_DECLINE_REASON_107','AMRL_DECLINE_REASON_108','AMRL_DECLINE_REASON_109','AMRL_DECLINE_REASON_110','AMRL_DECLINE_REASON_111','AMRL_DECLINE_REASON_112','AMRL_DECLINE_REASON_113','AMRL_DECLINE_REASON_114','AMRL_DECLINE_REASON_115','AMRL_DECLINE_REASON_116','AMRL_DECLINE_REASON_117','AMRL_DECLINE_REASON_118','AMRL_DECLINE_REASON_119','AMRL_DECLINE_REASON_120','AMRL_DECLINE_REASON_121','AMRL_DECLINE_REASON_122','AMRL_DECLINE_REASON_123','AMRL_DECLINE_REASON_124','AMRL_DECLINE_REASON_125','AMRL_DECLINE_REASON_126','AMRL_DECLINE_REASON_127','AMRL_DECLINE_REASON_128','AMRL_DECLINE_REASON_129','AMRL_DECLINE_REASON_130','AMRL_DECLINE_REASON_131','AMRL_DECLINE_REASON_132','AMRL_DECLINE_REASON_133','AMRL_DECLINE_REASON_134','AMRL_DECLINE_REASON_135','AMRL_DECLINE_REASON_136','AMRL_DECLINE_REASON_137','AMRL_DECLINE_REASON_138','AMRL_DECLINE_REASON_139','AMRL_DECLINE_REASON_140','AMRL_DECLINE_REASON_141','AMRL_DECLINE_REASON_142','AMRL_DECLINE_REASON_143','AMRL_DECLINE_REASON_144','AMRL_DECLINE_REASON_145','AMRL_DECLINE_REASON_146','AMRL_DECLINE_REASON_147','AMRL_DECLINE_REASON_148','AMRL_DECLINE_REASON_149','AMRL_DECLINE_REASON_150','AMRL_DECLINE_REASON_151','AMRL_DECLINE_REASON_152','AMRL_DECLINE_REASON_153','AMRL_DECLINE_REASON_154','AMRL_DECLINE_REASON_155','AMRL_DECLINE_REASON_156','AMRL_DECLINE_REASON_157','AMRL_DECLINE_REASON_158','AMRL_DECLINE_REASON_159','AMRL_DECLINE_REASON_160','AMRL_DECLINE_REASON_161','AMRL_DECLINE_REASON_162','AMRL_DECLINE_REASON_163','AMRL_DECLINE_REASON_164','AMRL_DECLINE_REASON_165','AMRL_DECLINE_REASON_166','AMRL_DECLINE_REASON_167','AMRL_DECLINE_REASON_168','AMRL_DECLINE_REASON_169','AMRL_DECLINE_REASON_170','AMRL_DECLINE_REASON_171','AMRL_DECLINE_REASON_172','AMRL_DECLINE_REASON_173','AMRL_DECLINE_REASON_174','AMRL_DECLINE_REASON_175','AMRL_DECLINE_REASON_176','AMRL_DECLINE_REASON_177','AMRL_DECLINE_REASON_178','AMRL_DECLINE_REASON_179','AMRL_DECLINE_REASON_180','AMRL_DECLINE_REASON_181','AMRL_DECLINE_REASON_182','AMRL_DECLINE_REASON_183','AMRL_DECLINE_REASON_184','AMRL_DECLINE_REASON_185','AMRL_DECLINE_REASON_186','AMRL_DECLINE_REASON_187','AMRL_DECLINE_REASON_188','AMRL_DECLINE_REASON_189','AMRL_DECLINE_REASON_190','AMRL_DECLINE_REASON_191','AMRL_DECLINE_REASON_192','AMRL_DECLINE_REASON_193','AMRL_DECLINE_REASON_194','AMRL_DECLINE_REASON_195','AMRL_DECLINE_REASON_196','AMRL_DECLINE_REASON_197','AMRL_DECLINE_REASON_198','AMRL_DECLINE_REASON_199','AMRL_DECLINE_REASON_200','AMRL_DECLINE_REASON_201','AMRL_DECLINE_REASON_202','AMRL_DECLINE_REASON_203','AMRL_DECLINE_REASON_204','AMRL_DECLINE_REASON_205','AMRL_DECLINE_REASON_206','AMRL_DECLINE_REASON_207','AMRL_DECLINE_REASON_208','AMRL_DECLINE_REASON_209','AMRL_DECLINE_REASON_210','AMRL_DECLINE_REASON_211','AMRL_DECLINE_REASON_212','AMRL_DECLINE_REASON_213','AMRL_DECLINE_REASON_214','AMRL_DECLINE_REASON_215','AMRL_DECLINE_REASON_216','AMRL_DECLINE_REASON_217','AMRL_DECLINE_REASON_218','AMRL_DECLINE_REASON_219','AMRL_DECLINE_REASON_220','AMRL_DECLINE_REASON_221','AMRL_DECLINE_REASON_222','AMRL_DECLINE_REASON_223','AMRL_DECLINE_REASON_224','AMRL_DECLINE_REASON_225','AMRL_DECLINE_REASON_226','AMRL_DECLINE_REASON_227','AMRL_DECLINE_REASON_228','AMRL_DECLINE_REASON_229','AMRL_DECLINE_REASON_230','AMRL_DECLINE_REASON_231','AMRL_DECLINE_REASON_232','AMRL_DECLINE_REASON_233','AMRL_DECLINE_REASON_234','AMRL_DECLINE_REASON_235','AMRL_DECLINE_REASON_236','AMRL_DECLINE_REASON_237','AMRL_DECLINE_REASON_238','AMRL_DECLINE_REASON_239','AMRL_DECLINE_REASON_240','AMRL_DECLINE_REASON_241','AMRL_DECLINE_REASON_242','AMRL_DECLINE_REASON_243','AMRL_DECLINE_REASON_244','AMRL_DECLINE_REASON_245','AMRL_DECLINE_REASON_246','AMRL_DECLINE_REASON_247','AMRL_DECLINE_REASON_248','AMRL_DECLINE_REASON_249','AMRL_CREDIT_LIMIT']]\n",
    "temp_CDM_ALL_1 =data.loc[data[\"AMRL_DECISION_DATE\"]>='01JAN2019']\n",
    "temp_CDM_ALL_1_2=temp_CDM_ALL_1.sort_values(by=['APPLICATION',\"AMRL_DECISION_DATE\"],inplace=True)\n"
   ]
  },
  {
   "cell_type": "markdown",
   "metadata": {},
   "source": [
    "## MB0"
   ]
  },
  {
   "cell_type": "code",
   "execution_count": null,
   "metadata": {},
   "outputs": [],
   "source": [
    "def Q_SYSRSN(data1):\n",
    "    N = [str(x) for x in range(248, 100, -1)]\n",
    "    data1['WHATREASON'] = data1['WHATREASON'].astype(str).str[:3]\n",
    "    #data['FIN_REASON'] = data['FIN_REASON'].astype(str).str[:3]\n",
    "    for I in N:\n",
    "        data1.loc[~(data1['AMRL_DECLINE_REASON_'+I]==0), 'FIN_REASON'] = data1['AMRL_DECLINE_REASON_'+I]\n",
    "    M = [str(x) for x in range(100, 0, -1)]\n",
    "    for U in M:\n",
    "        data1.loc[~(data1['AMRL_DECLINE_REASON_'+U]==0), 'FIN_REASON'] = data1['AMRL_DECLINE_REASON_'+U]\n",
    "    data1['WHATREASON'] = data1['FIN_REASON']\n"
   ]
  },
  {
   "cell_type": "markdown",
   "metadata": {},
   "source": [
    "## DB1"
   ]
  },
  {
   "cell_type": "code",
   "execution_count": null,
   "metadata": {},
   "outputs": [],
   "source": [
    "data=temp_CDM_ALL_1\n",
    "data = data.loc[data['ORG']==702]\n",
    "\n"
   ]
  },
  {
   "cell_type": "code",
   "execution_count": null,
   "metadata": {},
   "outputs": [],
   "source": [
    "data['AMRL_DECISION_DATE'] = pd.to_datetime(data.AMRL_DECISION_DATE, format='%d%b%y')\n",
    "data['MONTH(AMRL_DECISION_DATE)'] = data['AMRL_DECISION_DATE'].dt.strftime(\"%m\")\n",
    "data['YEAR(AMRL_DECISION_DATE)'] = data['AMRL_DECISION_DATE'].dt.strftime(\"%Y\")\n"
   ]
  },
  {
   "cell_type": "code",
   "execution_count": null,
   "metadata": {},
   "outputs": [],
   "source": [
    "data=data.loc[(data['MONTH(AMRL_DECISION_DATE)'] >= '01') & (data['YEAR(AMRL_DECISION_DATE)']>='2021')]\n",
    "data.drop(['MONTH(AMRL_DECISION_DATE)','YEAR(AMRL_DECISION_DATE)'], inplace=True, axis=1)\n"
   ]
  },
  {
   "cell_type": "code",
   "execution_count": null,
   "metadata": {},
   "outputs": [],
   "source": [
    "data.loc[data['APPLICATION'].isin([2019364165913,2019364090839,2020014134242,2020015154229,2020020153257,2020015124529,2020021134706,2020023165155,2020028153657,2020023100754,2020028134425,2020028163657,2020030150410,2020030172714,2020036112953,2020037151357,2020037181215,2020041112450,2020041172008,2020044105106,2020050133222,2020050143048,2020056095006,2020057093429]),'AMRL_USER_FIELD_ALPHA_3_1_4']='E11'\n",
    "data.loc[(data['ORG']==702),'PDT']=\"CARD\"\n",
    "data['PDT']=data['PDT'].str[:10]\n",
    "data.loc[(data['TYPE'].isin([260, 300, 306])),'PROCESS']=\"1. NEW APPLICATION\"\n",
    "data.loc[(data['TYPE'].isin([303, 307, 308, 309])),'PROCESS']=\"2. ADD-ON\"\n",
    "data.loc[(data['TYPE'].isin([304, 305])),'PROCESS']=\"3. SECURED & STAFF\"\n",
    "data.loc[(data['TYPE'].isin([301, 340, 341, 700])),'PROCESS']=\"4. OTHERS\"\n",
    "data.loc[(data['TYPE'].isin([311, 313, 314, 321, 333, 399, 377,334, 378])),'PROCESS']=\"5. LINE MGT\"\n",
    "data.loc[(data['TYPE'].isin([312])),'PROCESS']=\"6. BT/FT\"\n",
    "data.loc[(data['TYPE'].isin([330, 331, 332])),'PROCESS']=\"7. CORPORATE\"\n",
    "data.loc[(data['TYPE'].isin([520, 521, 522, 523])),'PROCESS']=\"8. AUM CARD\"\n",
    "data.loc[(data['TYPE'].isin([316])),'PROCESS']=\"9. INSTALMENT LOAN\"\n",
    "data.loc[(data['TYPE'].isin([200, 209, 250])),'PROCESS']=\"10. MAC\"\n",
    "data.loc[(data['TYPE'].isin([388])),'PROCESS']=\"11. SUPER PREMIUM\"\n",
    "data.loc[(data['TYPE'].isin([900])),'PROCESS']=\"12. REVIEW PORTFOLIO\"\n",
    "data.loc[(data['TYPE'].isin([40, 50])),'PROCESS']=\"13. REINSTATEMENT\"\n",
    "data.loc[~(data['TYPE'].isin([260, 300, 306,303, 307, 308, 309,304, 305,301, 340, 341, 700,311, 313, 314, 321, 333, 399, 377,334, 378,312,330, 331, 332,520, 521, 522, 523,316,200, 209, 250,388,900,40,50])),'PROCESS']=\"13. NOT-ASSIGNED\""
   ]
  },
  {
   "cell_type": "code",
   "execution_count": null,
   "metadata": {},
   "outputs": [],
   "source": [
    "data.loc[(data['TYPE'].isin([260,300,306])),'PROCESS_GRP']=\"1. NEW APPLICATION\"\n",
    "data.loc[~(data['TYPE'].isin([260,300,306])),'PROCESS_GRP']=\"2. PORTFOLIO ACTION\""
   ]
  },
  {
   "cell_type": "code",
   "execution_count": null,
   "metadata": {
    "scrolled": false
   },
   "outputs": [],
   "source": [
    "data['PROCESS']=data['PROCESS'].str[:20]\n",
    "data['PROCESS_GRP']=data['PROCESS_GRP'].str[:20]"
   ]
  },
  {
   "cell_type": "code",
   "execution_count": null,
   "metadata": {},
   "outputs": [],
   "source": [
    "data.loc[((data['AMRL_ACCEPT_DECLINE_IND']=='A') & ((data['AMRL_USER_FIELD_ALPHA_3_1_4']!=None)|(data['AMRL_USER_FIELD_ALPHA_3_1_4']!=''))),'WHATREASON']=data['AMRL_USER_FIELD_ALPHA_3_1_4']\n",
    "data['WHATREASON']=data['WHATREASON'].str[:3]"
   ]
  },
  {
   "cell_type": "code",
   "execution_count": null,
   "metadata": {},
   "outputs": [],
   "source": [
    "data['AMRL_CROSS_CHECK_RESULT']=''\n",
    "for i, row in data.iterrows():\n",
    "    if (row['AMRL_ACCEPT_DECLINE_IND'] == 'D'):\n",
    "        if(row['AMRL_CROSS_CHECK_RESULT']=='AD') & (row['AMRL_DATE_ENTERED_EDIT'] >= '15JAN2015'):\n",
    "            Q_SYSRSN()\n",
    "            data.loc['REJECTIND'] ='CC'\n",
    "        if((row['AMRL_PRE_VAL_RESULT']=='AD')|(row['AMRL_PRE_VAL_RESULT']=='RD')) & (row['AMRL_DATE_ENTERED_EDIT'] >='15JAN2015'):\n",
    "            Q_SYSRSN(data)\n",
    "            data.loc[i,'REJECTIND'] ='PV'\n",
    "        if(row['AMRL_CROSS_CHECK_RESULT']=='AD'):\n",
    "            data.loc['WHATREASON']='XX'\n",
    "        if((row['AMRL_CROSS_CHECK_RESULT']=='RD')|(row['AMRL_APP_SCORE_RESULT']=='RC')):\n",
    "            data['WHATREASON']=data['AMRL_USER_FIELD_ALPHA_3_1_4']\n",
    "        if((row['AMRL_JUDGEMENT_RESULT']=='AD')|(row['AMRL_JUDGEMENT_RESULT']=='RD'))&(row['AMRL_DATE_ENTERED_EDIT'] >= '2015-01-15'):\n",
    "            Q_SYSRSN(data)\n",
    "        if(row['AMRL_USER_FIELD_ALPHA_3_1_4']!=' ') :  \n",
    "            data['WHATREASON']=data['AMRL_USER_FIELD_ALPHA_3_1_4']"
   ]
  },
  {
   "cell_type": "code",
   "execution_count": null,
   "metadata": {},
   "outputs": [],
   "source": [
    "data.loc[(data['AMRL_JUDGEMENT_STATUS']=='D') & (data['AMRL_JUDGEMENT_OPER']=='SYS') & (data['AMRL_JUDGEMENT_RESULT']=='AC'),'AMRL_ACCEPT_DECLINE_IND']='C'\n",
    "data.loc[(data['AMRL_JUDGEMENT_STATUS']=='D') & (data['AMRL_JUDGEMENT_OPER']=='SYS') & (data['AMRL_JUDGEMENT_RESULT']=='AC'),'WHATREASON']='T04'"
   ]
  },
  {
   "cell_type": "code",
   "execution_count": null,
   "metadata": {},
   "outputs": [],
   "source": [
    "data.loc[(data['AMRL_VERFICATION_STATUS']=='D') & (data['AMRL_USER_FIELD_ALPHA_3_1_4']==' '),'AMRL_ACCEPT_DECLINE_IND']='C'\n",
    "data.loc[(data['AMRL_VERFICATION_STATUS']=='D') & (data['AMRL_USER_FIELD_ALPHA_3_1_4']==' '),'WHATREASON']='T05'\n"
   ]
  },
  {
   "cell_type": "code",
   "execution_count": null,
   "metadata": {},
   "outputs": [],
   "source": [
    "data.loc[(data['AMRL_EDIT_STATUS']=='D') & (data['AMRL_EDIT_OPER']==''),'AMRL_ACCEPT_DECLINE_IND']='C'\n",
    "data.loc[(data['AMRL_EDIT_STATUS']=='D') & (data['AMRL_EDIT_OPER']==''),'WHATREASON']='T06'\n",
    "\n",
    "data.loc[(data['AMRL_ACCEPT_DECLINE_IND']=='D')& (data['AMRL_USER_FIELD_ALPHA_3_1_4'].astype(str).str[0:1]=='W'),'AMRL_ACCEPT_DECLINE_IND']='C'\n",
    "data.loc[~(data['AMRL_USER_FIELD_ALPHA_3_1_4']==' '),'WHATREASON']=data['AMRL_USER_FIELD_ALPHA_3_1_4']\n"
   ]
  },
  {
   "cell_type": "code",
   "execution_count": null,
   "metadata": {},
   "outputs": [],
   "source": [
    "data.loc[(data['AMRL_ACCEPT_DECLINE_IND']=='A')&(data['AMRL_USER_FIELD_ALPHA_3_1_4'].isin(['E38','E41','E54','X38','X41','X54'])),'APP_STATUS']='(1) CR_APPR'\n",
    "data.loc[(data['AMRL_ACCEPT_DECLINE_IND']=='A')&(data['AMRL_USER_FIELD_ALPHA_3_1_4'].isin(['E28','E58','X28','X58'])),'APP_STATUS']='(1) CR_APPR'\n",
    "data.loc[(data['AMRL_ACCEPT_DECLINE_IND']=='A')&(data['AMRL_USER_FIELD_ALPHA_3_1_4'].isin(['E34','E55','X34','X55'])),'APP_STATUS']='(1) CR_APPR'\n",
    "data.loc[(data['AMRL_ACCEPT_DECLINE_IND']=='A')&(data['AMRL_USER_FIELD_ALPHA_3_1_4'].isin(['E56','E60','E46','X56','X60','X46'])),'APP_STATUS']='(1) CR_APPR'\n",
    "data.loc[(data['AMRL_ACCEPT_DECLINE_IND']=='A')&(data['AMRL_USER_FIELD_ALPHA_3_1_4'].isin(['E11','X01','X02','X03','X04','X05','X06'])),'APP_STATUS']='(1) CR_APPR'\n",
    "data.loc[(data['AMRL_ACCEPT_DECLINE_IND']=='A')&(data['AMRL_USER_FIELD_ALPHA_3_1_4'].isin(['K01'])),'APP_STATUS']='(1) CR_APPR'\n"
   ]
  },
  {
   "cell_type": "code",
   "execution_count": null,
   "metadata": {},
   "outputs": [],
   "source": [
    "\n",
    "data.loc[(data['AMRL_ACCEPT_DECLINE_IND']=='D')&(data['AMRL_USER_FIELD_ALPHA_3_1_4'].isin(['J62','J03'])),'APP_STATUS']='(2) CR_DECL'\n",
    "data.loc[(data['AMRL_ACCEPT_DECLINE_IND']=='D')&(data['AMRL_USER_FIELD_ALPHA_3_1_4'].isin(['J19'])),'APP_STATUS']='(2) CR_DECL'\n",
    "data.loc[(data['AMRL_ACCEPT_DECLINE_IND']=='D')&(data['AMRL_USER_FIELD_ALPHA_3_1_4'].isin(['J08','J23','J64','J21'])),'APP_STATUS']='(2) CR_DECL'\n",
    "data.loc[(data['AMRL_ACCEPT_DECLINE_IND']=='D')&(data['AMRL_USER_FIELD_ALPHA_3_1_4'].isin(['J05','J55','J06','J53','J16','J51','J63','J15','J04', 'J07'])),'APP_STATUS']='(2) CR_DECL'\n",
    "\n",
    "data.loc[(data['AMRL_ACCEPT_DECLINE_IND']=='D')&(data['AMRL_USER_FIELD_ALPHA_3_1_4'].isin(['DA','DI','NA','J69','J70','RY'])),'APP_STATUS']='(3) T&O_DECL'\n",
    "data.loc[(data['AMRL_ACCEPT_DECLINE_IND']=='D')&(data['AMRL_USER_FIELD_ALPHA_3_1_4'].isin(['J14','J65','J66'])),'APP_STATUS']='(3) T&O_DECL'\n",
    "data.loc[(data['AMRL_ACCEPT_DECLINE_IND']=='D')&(data['AMRL_USER_FIELD_ALPHA_3_1_4'].isin(['J01','J10'])),'APP_STATUS']='(3) T&O_DECL'\n",
    "data.loc[(data['AMRL_ACCEPT_DECLINE_IND']=='D')&(data['AMRL_USER_FIELD_ALPHA_3_1_4'].isin(['DP','J20','J25','J26','J27','J28','J54','J60','J68','J67','J61'])),'APP_STATUS']='(3) T&O_DECL'\n"
   ]
  },
  {
   "cell_type": "code",
   "execution_count": null,
   "metadata": {},
   "outputs": [],
   "source": [
    "data['ACCPCNT']=0\n",
    "data['DECLCNT']=0\n",
    "data['CANLCNT']=0\n",
    "data['PENDCNT']=0\n",
    "data['ENTERCNT']=0"
   ]
  },
  {
   "cell_type": "code",
   "execution_count": null,
   "metadata": {},
   "outputs": [],
   "source": [
    "data.loc[(data['AMRL_ACCEPT_DECLINE_IND']=='A'),'ACCPCNT']=1\n",
    "data.loc[(data['AMRL_ACCEPT_DECLINE_IND']=='D'),'DECLCNT']=1\n",
    "data.loc[(data['AMRL_ACCEPT_DECLINE_IND']=='C'),'CANLCNT']=1\n",
    "data.loc[(data['AMRL_ACCEPT_DECLINE_IND']==' '),'PENDCNT']=1\n"
   ]
  },
  {
   "cell_type": "code",
   "execution_count": null,
   "metadata": {},
   "outputs": [],
   "source": [
    "data.loc[(data['AMRL_DATE_ENTERED_EDIT']==' ') & (data['AMRL_DATE_EXITED_EDIT']==' '),'ENTERCNT']=1\n",
    "data.loc[(data['ACCPCNT']==1)|(data['DECLCNT']==1)|(data['CANLCNT']==1), 'PROCNT']=1\n"
   ]
  },
  {
   "cell_type": "code",
   "execution_count": null,
   "metadata": {},
   "outputs": [],
   "source": [
    "data['CNT']=1"
   ]
  },
  {
   "cell_type": "code",
   "execution_count": null,
   "metadata": {},
   "outputs": [],
   "source": [
    "data['AMRL_USER_FIELD_ALPHA_3_1_4_a']=data['AMRL_USER_FIELD_ALPHA_3_1_4'].astype(str).str[0:1]    \n",
    "data.loc[(data['AMRL_ACCEPT_DECLINE_IND']=='A') & (data['AMRL_USER_FIELD_ALPHA_3_1_4_a']=='X'),'DEVIATION']='YES'\n",
    "data.loc[~(data['AMRL_ACCEPT_DECLINE_IND']=='A') & (data['AMRL_USER_FIELD_ALPHA_3_1_4_a']=='X'),'DEVIATION']='NO'\n",
    "data.drop('AMRL_USER_FIELD_ALPHA_3_1_4_a', inplace=True, axis=1)\n"
   ]
  },
  {
   "cell_type": "code",
   "execution_count": null,
   "metadata": {},
   "outputs": [],
   "source": [
    "data['N_SOURCECDE']=data['AMRL_USER_FIELD_ALPHA_10_1_5'].astype(str).str[4:6]  \n",
    "data.loc[(data['AMRL_DECISION_DATE']>='2014-01-01'),'SOURCE']=data['N_SOURCECDE'].astype(str)\n",
    "data.loc[(data['AMRL_DECISION_DATE']<'2014-01-01'),'SOURCE']=data['N_SOURCECDE'].astype(str)\n"
   ]
  },
  {
   "cell_type": "code",
   "execution_count": null,
   "metadata": {},
   "outputs": [],
   "source": [
    "\n",
    "\n",
    "#could not find AMRL_DRIVER_LICENSE_NBR_1 column in the dataset nor in the sascode  \n",
    "data['AMRL_DRIVER_LICENSE_NBR_1']=0\n",
    "data['AMRL_DRIVER_LICENSE_NBR_1a']=data['AMRL_DRIVER_LICENSE_NBR_1'].astype(str).str[0:1]    \n",
    "data.loc[(data['AMRL_DRIVER_LICENSE_NBR_1'].isin(['S','T']))|(data['AMRL_USER_FIELD_ALPHA_1_1_3']=='Y'),'NATION_IND']='NON-FOREIGNER'\n",
    "data.loc[(data['AMRL_DRIVER_LICENSE_NBR_1'].isin(['S','T']))|(data['AMRL_USER_FIELD_ALPHA_1_1_3']!='Y'),'NATION_IND']='FOREIGNER'\n",
    "data.drop('AMRL_DRIVER_LICENSE_NBR_1a', inplace=True, axis=1)\n"
   ]
  },
  {
   "cell_type": "code",
   "execution_count": null,
   "metadata": {},
   "outputs": [],
   "source": [
    "for i, row in data.iterrows():\n",
    "    if (row['WHATREASON']=='') & (row['AMRL_DATE_ENTERED_EDIT']>='15JAN2015'):\n",
    "        Q_SYSRSN()\n"
   ]
  },
  {
   "cell_type": "code",
   "execution_count": null,
   "metadata": {},
   "outputs": [],
   "source": [
    "data.loc[(data['WHATREASON']==''),'REASON_DESCRIP']=\"<BLANK>\""
   ]
  },
  {
   "cell_type": "code",
   "execution_count": null,
   "metadata": {},
   "outputs": [],
   "source": [
    "\n",
    "data.loc[(data['WHATREASON'].isin(['E12','J12']))&(data['AMRL_ACCEPT_DECLINE_IND']=='A'),'APP_STATUS']=\"(1) CR_APPR\"\n",
    "data.loc[(data['WHATREASON'].isin(['E12','J12']))&(data['AMRL_ACCEPT_DECLINE_IND']=='D'),'APP_STATUS']=\"(2) CR_DECL\"\n",
    "data.loc[(data['WHATREASON'].isin(['E12','J12']))&(data['AMRL_ACCEPT_DECLINE_IND']=='D'),'PROCESSOR']=\"2.CREDIT\"\n",
    "data.loc[(data['WHATREASON'].isin(['E12','J12']))&(data['AMRL_ACCEPT_DECLINE_IND']=='D'),'SYSTEM']=\"2.CREDIT REVIEW\"\n",
    "data.loc[(data['WHATREASON'].isin(['E12','J12']))&(data['AMRL_ACCEPT_DECLINE_IND']=='D'),'SYSTEM_GRP']=\"2.CREDIT\"\n"
   ]
  },
  {
   "cell_type": "code",
   "execution_count": null,
   "metadata": {},
   "outputs": [],
   "source": [
    "temp_CDM_ALL_2=data\n",
    "temp_CDM_ALL_2"
   ]
  },
  {
   "cell_type": "markdown",
   "metadata": {},
   "source": [
    "## DB2"
   ]
  },
  {
   "cell_type": "code",
   "execution_count": null,
   "metadata": {},
   "outputs": [],
   "source": [
    "data = data.loc[(data['AMRL_ACCEPT_DECLINE_IND'].isin(['A','C','D']))]\n",
    "#data['RSNGRP'] = data['RSNGRP'].astype(str).str[:3]\n"
   ]
  },
  {
   "cell_type": "code",
   "execution_count": null,
   "metadata": {},
   "outputs": [],
   "source": [
    "\n",
    "data.loc[(data['AMRL_DATE_ENTERED_EDIT']>= '15jan2015')&(data['WHATREASON'].isin(['N1','N2'])), 'RSNGRP'] = 'NF'\n",
    "data.loc[(data['AMRL_DATE_ENTERED_EDIT']>= '15jan2015')&(data['WHATREASON'].isin(['B1','B2','B3'])), 'RSNGRP'] = 'BG'\n",
    "data.loc[(data['AMRL_DATE_ENTERED_EDIT']>= '15jan2015')&(data['WHATREASON'].isin(['P1','P2'])), 'RSNGRP'] = 'PV'\n",
    "data.loc[(data['AMRL_DATE_ENTERED_EDIT']>= '15jan2015')&(data['WHATREASON'].isin(['P3','P4','P5','PV'])), 'RSNGRP'] = 'PH'\n",
    "data.loc[(data['AMRL_DATE_ENTERED_EDIT']>= '15jan2015')&(data['WHATREASON'].isin(['N3','N4','N5'])), 'RSNGRP'] = 'NH'\n",
    "data.loc[(data['AMRL_DATE_ENTERED_EDIT']>= '15jan2015')&(data['WHATREASON'].isin(['N6','N7','N8','N9'])), 'RSNGRP'] = 'NB'\n",
    "data.loc[~(data['WHATREASON'].isin(['N1','N2','B1','B2','B3','P1','P2','P3','P4','P5','PV','N3','N4','N5','N6','N7','N8','N9'])), 'RSNGRP'] = data['WHATREASON']\n"
   ]
  },
  {
   "cell_type": "code",
   "execution_count": null,
   "metadata": {},
   "outputs": [],
   "source": [
    "data['RSNGRP'] = data['RSNGRP'].astype(str).str[:3]"
   ]
  },
  {
   "cell_type": "code",
   "execution_count": null,
   "metadata": {},
   "outputs": [],
   "source": [
    "data.loc[(data['TYPE'].isin(['312'])) & (~data['AMRL_USER_FIELD_ALPHA_5_1_2'].isin(['D201','D202','P101','P102'])), 'TYPE_A'] = '312-CARD BT'\n",
    "data.loc[(data['TYPE'].isin(['312'])) & (data['AMRL_USER_FIELD_ALPHA_5_1_2'].isin(['D201','D202','P101','P102'])), 'TYPE_A'] = '312-CARD FT'\n",
    "data.loc[(data['TYPE'].isin(['312'])) & (~data['AMRL_USER_FIELD_ALPHA_5_1_2'].isin(['D201','D202','P101','P102'])) &(data['AMRL_USER_FIELD_ALPHA_5_1_2'].isin(['D201','D202','P101','P102'])), 'TYPE_A'] = data['TYPE']\n"
   ]
  },
  {
   "cell_type": "code",
   "execution_count": null,
   "metadata": {},
   "outputs": [],
   "source": [
    "\n",
    "data['ISS_IND'] = np.where(data['TYPE'].isin(['312','311','313','321','314','399','316','333','377','900']), 'NON-ISSUANCE', 'ISSUANCE')\n"
   ]
  },
  {
   "cell_type": "code",
   "execution_count": null,
   "metadata": {},
   "outputs": [],
   "source": [
    "data.loc[(data['AMRL_ACCEPT_DECLINE_IND'].isin(['A'])), 'DECISION'] = '1. APPROVED'\n",
    "data.loc[(data['AMRL_ACCEPT_DECLINE_IND'].isin(['C'])), 'DECISION'] = '2. CANCELLED'\n",
    "data.loc[(data['AMRL_ACCEPT_DECLINE_IND'].isin(['D'])), 'DECISION'] = '3. DECLINED'\n",
    "data.loc[~(data['AMRL_ACCEPT_DECLINE_IND'].isin(['A', 'C', 'D'])), 'DECISION'] = '4. PENDING'\n",
    "data.loc[(data['AMRL_ACCEPT_DECLINE_IND'].isin(['A'])) & (data['AMRL_USER_FIELD_ALPHA_3_1_4'].isin([' '])), 'WHATREASON'] = data['AMRL_USER_FIELD_ALPHA_3_1_4']\n"
   ]
  },
  {
   "cell_type": "code",
   "execution_count": null,
   "metadata": {},
   "outputs": [],
   "source": [
    "data['PROCESSOR'] = data['SYSTEM_GRP'].str.upper().str[:100]\n",
    "data"
   ]
  },
  {
   "cell_type": "code",
   "execution_count": null,
   "metadata": {},
   "outputs": [],
   "source": [
    "data.loc[(data['WHATREASON'].isin([' '])), 'REASON_DESCRIP'] = '<BLANK>'\n",
    "data['GROUP'] = data['WHATREASON'].astype(str)\n",
    "data['GROUP_N'] = data['WHATREASON']\n",
    "data['PROCESSOR'] = data['SYSTEM_GRP'].str.upper().str[:100]\n",
    "data['TYPE_DESCRIP'] = data['TYPE_A'].astype(str)\n",
    "data['REASON_DESCRIP'] = data['RSNGRP'].astype(str)\n",
    "data['AMRL_DECISION_DATE'] = pd.to_datetime(data['AMRL_DECISION_DATE'])\n",
    "data['DEC_MTH'] = data['AMRL_DECISION_DATE'].dt.strftime('%YM%m')\n",
    "data['PRODUCT'] = data['PDT'].astype(str).str[:100].str.upper()  \n",
    "data['PRODUCT_GRP'] = data['PROCESS_GRP'].astype(str).str[:100].str.upper()"
   ]
  },
  {
   "cell_type": "code",
   "execution_count": null,
   "metadata": {},
   "outputs": [],
   "source": [
    "#data['AMRL_DECISION_DATE'] = pd.to_datetime(data.AMRL_DECISION_DATE, format='%d%b%y')\n",
    "data['AMRL_DECISION_DATE'] = pd.to_datetime(data['AMRL_DECISION_DATE'])\n",
    "data['AMRL_DECISION_DATE']  = data['AMRL_DECISION_DATE'].dt.strftime('%YM%m')\n",
    "data.loc[(data['AMRL_DECISION_DATE'] >= '01MAY2017') & (data['REASON_DESCRIP']  ==  'NA - FOREIGNER EMPLOYMENT PASS/NATIONALITY CHECKS') & \n",
    "         (data['DECISION']  == '3. DECLINED'), 'CANLCNT'] =1\n",
    "data.loc[(data['AMRL_DECISION_DATE'] >= '01MAY2017') & (data['REASON_DESCRIP']  ==  'NA - FOREIGNER EMPLOYMENT PASS/NATIONALITY CHECKS') & \n",
    "         (data['DECISION']  == '3. DECLINED'), 'AMRL_ACCEPT_DECLINE_IND'] ='C'\n",
    "data.loc[(data['AMRL_DECISION_DATE'] >= '01MAY2017') & (data['REASON_DESCRIP']  ==  'NA - FOREIGNER EMPLOYMENT PASS/NATIONALITY CHECKS') & \n",
    "         (data['DECISION']  == '3. DECLINED'), 'DECISION'] ='2. CANCELLED'\n",
    "data['TYPE_A'] = data['TYPE_A'].astype(str).str[:80] \n",
    "data['TYPE_DESCRIP'] = data['TYPE_DESCRIP'].astype(str).str[:80]\n",
    "data['REASON_DESCRIP'] = data['REASON_DESCRIP'].astype(str).str[:80]\n",
    "data['SYSTEM_GRP'] = data['SYSTEM_GRP'].astype(str).str[:80]\n",
    "data['ISS_IND'] = data['ISS_IND'].astype(str).str[:80]\n",
    "data['DECISION'] = data['DECISION'].astype(str).str[:80]\n",
    "data['GROUP'] = data['GROUP'].astype(str).str[:80]\n",
    "data['GROUP_N'] = data['GROUP_N'].astype(str).str[:80]\n",
    "data\n"
   ]
  },
  {
   "cell_type": "code",
   "execution_count": null,
   "metadata": {},
   "outputs": [],
   "source": [
    "CDMCARD_E=data"
   ]
  },
  {
   "cell_type": "markdown",
   "metadata": {},
   "source": [
    "## DB3"
   ]
  },
  {
   "cell_type": "code",
   "execution_count": 2,
   "metadata": {},
   "outputs": [],
   "source": [
    "cdm = pd.read_csv(r\"C:\\Users\\AAASHTHA\\Desktop\\FE_Deck\\cdm_2201.csv\")\n"
   ]
  },
  {
   "cell_type": "code",
   "execution_count": 7,
   "metadata": {},
   "outputs": [],
   "source": [
    "data=cdm[['ORG','TYPE','APPLICATION','AMRL_NBR_OF_ASSOCS','AMRL_STATUS','AMRL_LAST_MAINT','AMRL_LAST_MAINT_OPER','AMRL_ACCEPT_DECLINE_IND','AMRL_DECISION_DATE','AMRL_DECISION_OPER','AMRL_DATE_ENTERED_EDIT','AMRL_DATE_EXITED_EDIT','AMRL_EDIT_OPER','AMRL_EDIT_STATUS','AMRL_PRE_VAL_OPER','AMRL_PRE_VAL_STATUS','AMRL_PRE_VAL_RESULT','AMRL_APP_SCORE_RESULT','AMRL_VERFICATION_OPER','AMRL_VERFICATION_STATUS','AMRL_VERFICATION_RESULT','AMRL_JUDGEMENT_OPER','AMRL_JUDGEMENT_STATUS','AMRL_JUDGEMENT_RESULT','AMRL_SETUP_OPER','AMRL_SETUP_STATUS','AMRL_COUNTRY_1','AMRL_USER_FIELD_ALPHA_1_1_3','AMRL_USER_FIELD_ALPHA_10_1_5','AMRL_USER_FIELD_ALPHA_3_1_4','AMRL_USER_FIELD_ALPHA_5_1_2','AMRL_DECLINE_REASON_1','AMRL_DECLINE_REASON_2','AMRL_DECLINE_REASON_3','AMRL_DECLINE_REASON_4','AMRL_DECLINE_REASON_5','AMRL_DECLINE_REASON_6','AMRL_DECLINE_REASON_7','AMRL_DECLINE_REASON_8','AMRL_DECLINE_REASON_9','AMRL_DECLINE_REASON_10','AMRL_DECLINE_REASON_11','AMRL_DECLINE_REASON_12','AMRL_DECLINE_REASON_13','AMRL_DECLINE_REASON_14','AMRL_DECLINE_REASON_15','AMRL_DECLINE_REASON_16','AMRL_DECLINE_REASON_17','AMRL_DECLINE_REASON_18','AMRL_DECLINE_REASON_19','AMRL_DECLINE_REASON_20','AMRL_DECLINE_REASON_21','AMRL_DECLINE_REASON_22','AMRL_DECLINE_REASON_23','AMRL_DECLINE_REASON_24','AMRL_DECLINE_REASON_25','AMRL_DECLINE_REASON_26','AMRL_DECLINE_REASON_27','AMRL_DECLINE_REASON_28','AMRL_DECLINE_REASON_29','AMRL_DECLINE_REASON_30','AMRL_DECLINE_REASON_31','AMRL_DECLINE_REASON_32','AMRL_DECLINE_REASON_33','AMRL_DECLINE_REASON_34','AMRL_DECLINE_REASON_35','AMRL_DECLINE_REASON_36','AMRL_DECLINE_REASON_37','AMRL_DECLINE_REASON_38','AMRL_DECLINE_REASON_39','AMRL_DECLINE_REASON_40','AMRL_DECLINE_REASON_41','AMRL_DECLINE_REASON_42','AMRL_DECLINE_REASON_43','AMRL_DECLINE_REASON_44','AMRL_DECLINE_REASON_45','AMRL_DECLINE_REASON_46','AMRL_DECLINE_REASON_47','AMRL_DECLINE_REASON_48','AMRL_DECLINE_REASON_49','AMRL_DECLINE_REASON_50','AMRL_DECLINE_REASON_51','AMRL_DECLINE_REASON_52','AMRL_DECLINE_REASON_53','AMRL_DECLINE_REASON_54','AMRL_DECLINE_REASON_55','AMRL_DECLINE_REASON_56','AMRL_DECLINE_REASON_57','AMRL_DECLINE_REASON_58','AMRL_DECLINE_REASON_59','AMRL_DECLINE_REASON_60','AMRL_DECLINE_REASON_61','AMRL_DECLINE_REASON_62','AMRL_DECLINE_REASON_63','AMRL_DECLINE_REASON_64','AMRL_DECLINE_REASON_65','AMRL_DECLINE_REASON_66','AMRL_DECLINE_REASON_67','AMRL_DECLINE_REASON_68','AMRL_DECLINE_REASON_69','AMRL_DECLINE_REASON_70','AMRL_DECLINE_REASON_71','AMRL_DECLINE_REASON_72','AMRL_DECLINE_REASON_73','AMRL_DECLINE_REASON_74','AMRL_DECLINE_REASON_75','AMRL_DECLINE_REASON_76','AMRL_DECLINE_REASON_77','AMRL_DECLINE_REASON_78','AMRL_DECLINE_REASON_79','AMRL_DECLINE_REASON_80','AMRL_DECLINE_REASON_81','AMRL_DECLINE_REASON_82','AMRL_DECLINE_REASON_83','AMRL_DECLINE_REASON_84','AMRL_DECLINE_REASON_85','AMRL_DECLINE_REASON_86','AMRL_DECLINE_REASON_87','AMRL_DECLINE_REASON_88','AMRL_DECLINE_REASON_89','AMRL_DECLINE_REASON_90','AMRL_DECLINE_REASON_91','AMRL_DECLINE_REASON_92','AMRL_DECLINE_REASON_93','AMRL_DECLINE_REASON_94','AMRL_DECLINE_REASON_95','AMRL_DECLINE_REASON_96','AMRL_DECLINE_REASON_97','AMRL_DECLINE_REASON_98','AMRL_DECLINE_REASON_99','AMRL_DECLINE_REASON_100','AMRL_DECLINE_REASON_101','AMRL_DECLINE_REASON_102','AMRL_DECLINE_REASON_103','AMRL_DECLINE_REASON_104','AMRL_DECLINE_REASON_105','AMRL_DECLINE_REASON_106','AMRL_DECLINE_REASON_107','AMRL_DECLINE_REASON_108','AMRL_DECLINE_REASON_109','AMRL_DECLINE_REASON_110','AMRL_DECLINE_REASON_111','AMRL_DECLINE_REASON_112','AMRL_DECLINE_REASON_113','AMRL_DECLINE_REASON_114','AMRL_DECLINE_REASON_115','AMRL_DECLINE_REASON_116','AMRL_DECLINE_REASON_117','AMRL_DECLINE_REASON_118','AMRL_DECLINE_REASON_119','AMRL_DECLINE_REASON_120','AMRL_DECLINE_REASON_121','AMRL_DECLINE_REASON_122','AMRL_DECLINE_REASON_123','AMRL_DECLINE_REASON_124','AMRL_DECLINE_REASON_125','AMRL_DECLINE_REASON_126','AMRL_DECLINE_REASON_127','AMRL_DECLINE_REASON_128','AMRL_DECLINE_REASON_129','AMRL_DECLINE_REASON_130','AMRL_DECLINE_REASON_131','AMRL_DECLINE_REASON_132','AMRL_DECLINE_REASON_133','AMRL_DECLINE_REASON_134','AMRL_DECLINE_REASON_135','AMRL_DECLINE_REASON_136','AMRL_DECLINE_REASON_137','AMRL_DECLINE_REASON_138','AMRL_DECLINE_REASON_139','AMRL_DECLINE_REASON_140','AMRL_DECLINE_REASON_141','AMRL_DECLINE_REASON_142','AMRL_DECLINE_REASON_143','AMRL_DECLINE_REASON_144','AMRL_DECLINE_REASON_145','AMRL_DECLINE_REASON_146','AMRL_DECLINE_REASON_147','AMRL_DECLINE_REASON_148','AMRL_DECLINE_REASON_149','AMRL_DECLINE_REASON_150','AMRL_DECLINE_REASON_151','AMRL_DECLINE_REASON_152','AMRL_DECLINE_REASON_153','AMRL_DECLINE_REASON_154','AMRL_DECLINE_REASON_155','AMRL_DECLINE_REASON_156','AMRL_DECLINE_REASON_157','AMRL_DECLINE_REASON_158','AMRL_DECLINE_REASON_159','AMRL_DECLINE_REASON_160','AMRL_DECLINE_REASON_161','AMRL_DECLINE_REASON_162','AMRL_DECLINE_REASON_163','AMRL_DECLINE_REASON_164','AMRL_DECLINE_REASON_165','AMRL_DECLINE_REASON_166','AMRL_DECLINE_REASON_167','AMRL_DECLINE_REASON_168','AMRL_DECLINE_REASON_169','AMRL_DECLINE_REASON_170','AMRL_DECLINE_REASON_171','AMRL_DECLINE_REASON_172','AMRL_DECLINE_REASON_173','AMRL_DECLINE_REASON_174','AMRL_DECLINE_REASON_175','AMRL_DECLINE_REASON_176','AMRL_DECLINE_REASON_177','AMRL_DECLINE_REASON_178','AMRL_DECLINE_REASON_179','AMRL_DECLINE_REASON_180','AMRL_DECLINE_REASON_181','AMRL_DECLINE_REASON_182','AMRL_DECLINE_REASON_183','AMRL_DECLINE_REASON_184','AMRL_DECLINE_REASON_185','AMRL_DECLINE_REASON_186','AMRL_DECLINE_REASON_187','AMRL_DECLINE_REASON_188','AMRL_DECLINE_REASON_189','AMRL_DECLINE_REASON_190','AMRL_DECLINE_REASON_191','AMRL_DECLINE_REASON_192','AMRL_DECLINE_REASON_193','AMRL_DECLINE_REASON_194','AMRL_DECLINE_REASON_195','AMRL_DECLINE_REASON_196','AMRL_DECLINE_REASON_197','AMRL_DECLINE_REASON_198','AMRL_DECLINE_REASON_199','AMRL_DECLINE_REASON_200','AMRL_DECLINE_REASON_201','AMRL_DECLINE_REASON_202','AMRL_DECLINE_REASON_203','AMRL_DECLINE_REASON_204','AMRL_DECLINE_REASON_205','AMRL_DECLINE_REASON_206','AMRL_DECLINE_REASON_207','AMRL_DECLINE_REASON_208','AMRL_DECLINE_REASON_209','AMRL_DECLINE_REASON_210','AMRL_DECLINE_REASON_211','AMRL_DECLINE_REASON_212','AMRL_DECLINE_REASON_213','AMRL_DECLINE_REASON_214','AMRL_DECLINE_REASON_215','AMRL_DECLINE_REASON_216','AMRL_DECLINE_REASON_217','AMRL_DECLINE_REASON_218','AMRL_DECLINE_REASON_219','AMRL_DECLINE_REASON_220','AMRL_DECLINE_REASON_221','AMRL_DECLINE_REASON_222','AMRL_DECLINE_REASON_223','AMRL_DECLINE_REASON_224','AMRL_DECLINE_REASON_225','AMRL_DECLINE_REASON_226','AMRL_DECLINE_REASON_227','AMRL_DECLINE_REASON_228','AMRL_DECLINE_REASON_229','AMRL_DECLINE_REASON_230','AMRL_DECLINE_REASON_231','AMRL_DECLINE_REASON_232','AMRL_DECLINE_REASON_233','AMRL_DECLINE_REASON_234','AMRL_DECLINE_REASON_235','AMRL_DECLINE_REASON_236','AMRL_DECLINE_REASON_237','AMRL_DECLINE_REASON_238','AMRL_DECLINE_REASON_239','AMRL_DECLINE_REASON_240','AMRL_DECLINE_REASON_241','AMRL_DECLINE_REASON_242','AMRL_DECLINE_REASON_243','AMRL_DECLINE_REASON_244','AMRL_DECLINE_REASON_245','AMRL_DECLINE_REASON_246','AMRL_DECLINE_REASON_247','AMRL_DECLINE_REASON_248','AMRL_DECLINE_REASON_249','AMRL_CREDIT_LIMIT']]\n",
    "temp_CDM_OTHERS_1=data.loc[data[\"AMRL_DECISION_DATE\"]>='01JAN2019']\n",
    "temp_CDM_OTHERS_1_2=temp_CDM_OTHERS_1.sort_values(by=['APPLICATION',\"AMRL_DECISION_DATE\"],inplace=True)"
   ]
  },
  {
   "cell_type": "code",
   "execution_count": null,
   "metadata": {},
   "outputs": [],
   "source": []
  },
  {
   "cell_type": "code",
   "execution_count": null,
   "metadata": {},
   "outputs": [],
   "source": []
  }
 ],
 "metadata": {
  "kernelspec": {
   "display_name": "Python 3 (ipykernel)",
   "language": "python",
   "name": "python3"
  },
  "language_info": {
   "codemirror_mode": {
    "name": "ipython",
    "version": 3
   },
   "file_extension": ".py",
   "mimetype": "text/x-python",
   "name": "python",
   "nbconvert_exporter": "python",
   "pygments_lexer": "ipython3",
   "version": "3.9.13"
  }
 },
 "nbformat": 4,
 "nbformat_minor": 2
}
